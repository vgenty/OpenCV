{
 "cells": [
  {
   "cell_type": "code",
   "execution_count": 1,
   "metadata": {
    "collapsed": false
   },
   "outputs": [
    {
     "data": {
      "text/plain": [
       "True"
      ]
     },
     "execution_count": 1,
     "metadata": {},
     "output_type": "execute_result"
    }
   ],
   "source": [
    "#%matplotlib inline\n",
    "import matplotlib\n",
    "import matplotlib.pyplot as plt\n",
    "import matplotlib.image  as mpimg\n",
    "import matplotlib.cm     as cm\n",
    "import matplotlib.collections as mc\n",
    "import numpy as np\n",
    "import cv2\n",
    "\n",
    "from larlite import larlite as fmwk\n",
    "my_proc = fmwk.ana_processor()\n",
    "my_proc.add_input_file(\"/Users/vgenty/Desktop/single_e.root\")\n",
    "\n",
    "my_proc.set_io_mode(fmwk.storage_manager.kREAD) \n",
    "my_unit  = fmwk.HitImageManager()\n",
    "my_aho   = fmwk.AlgoImageMaker()\n",
    "my_aho2  = fmwk.AlgoClusterHough()\n",
    "\n",
    "my_unit.SetImageMaker(my_aho)\n",
    "my_unit.SetClusterMaker(my_aho2)\n",
    "my_proc.add_process(my_unit)    \n",
    "\n",
    "my_proc.process_event()"
   ]
  },
  {
   "cell_type": "code",
   "execution_count": null,
   "metadata": {
    "collapsed": false
   },
   "outputs": [],
   "source": []
  },
  {
   "cell_type": "code",
   "execution_count": null,
   "metadata": {
    "collapsed": false
   },
   "outputs": [],
   "source": [
    "k = my_aho.GetPyImage(2)"
   ]
  },
  {
   "cell_type": "code",
   "execution_count": null,
   "metadata": {
    "collapsed": false
   },
   "outputs": [],
   "source": [
    "plt.imshow(k,cmap = cm.Greys,interpolation='none')\n",
    "plt.show()"
   ]
  },
  {
   "cell_type": "code",
   "execution_count": null,
   "metadata": {
    "collapsed": false
   },
   "outputs": [],
   "source": [
    "plt.imshow(),cmap = cm.Greys,interpolation='none')\n",
    "plt.show()"
   ]
  },
  {
   "cell_type": "code",
   "execution_count": null,
   "metadata": {
    "collapsed": false
   },
   "outputs": [],
   "source": [
    "fig, ax = plt.subplots(figsize=(10,6))\n",
    "\n",
    "for x in xrange(my_aho2.NumContours()):\n",
    "    x_array, y_array = my_aho2.GetContour(x)\n",
    "    ax.plot(x_array,y_array)  \n",
    "plt.show()"
   ]
  },
  {
   "cell_type": "code",
   "execution_count": null,
   "metadata": {
    "collapsed": false,
    "scrolled": true
   },
   "outputs": [],
   "source": [
    "print my_aho2.NumContours()"
   ]
  },
  {
   "cell_type": "code",
   "execution_count": null,
   "metadata": {
    "collapsed": false
   },
   "outputs": [],
   "source": [
    "my_aho2.GetContour(1)"
   ]
  },
  {
   "cell_type": "code",
   "execution_count": null,
   "metadata": {
    "collapsed": false
   },
   "outputs": [],
   "source": [
    "p = my_aho2.contour(1)"
   ]
  },
  {
   "cell_type": "code",
   "execution_count": null,
   "metadata": {
    "collapsed": false
   },
   "outputs": [],
   "source": [
    "p.at(0).second"
   ]
  },
  {
   "cell_type": "code",
   "execution_count": null,
   "metadata": {
    "collapsed": false
   },
   "outputs": [],
   "source": [
    "fig, ax = plt.subplots(figsize=(10,6))\n",
    "\n",
    "\n",
    "houghs = my_aho2.houghs()\n",
    "\n",
    "hh=[]\n",
    "for h in xrange(houghs.size()):\n",
    "    l = houghs[h]\n",
    "    hh.append([(l[0],l[1]),(l[2],l[3])])\n",
    "\n",
    "cc = mc.LineCollection(hh, linewidths=1)\n",
    "\n",
    "ax.imshow(my_aho2.GetBinaryImage(),cmap = cm.Greys,interpolation='none')\n",
    "\n",
    "for x in xrange(my_aho2.contoursize()):\n",
    "    p = my_aho2.contour(x)\n",
    "    x_array = []\n",
    "    y_array = []\n",
    "    \n",
    "    for point in xrange(p.size()):\n",
    "        x_array.append(p[point].first)\n",
    "        y_array.append(p[point].second)\n",
    "    \n",
    "    #ax.plot(x_array,y_array)\n",
    "\n",
    "hulls = my_aho2.hulls2()\n",
    "for x in xrange(hulls.size()):\n",
    "    hull = hulls[x]\n",
    "    \n",
    "    x_array = []\n",
    "    y_array = []\n",
    "    for p in xrange(hull.size()):\n",
    "        x_array.append(hull[p].first)\n",
    "        y_array.append(hull[p].second)\n",
    "        \n",
    "    ax.plot(x_array,y_array)\n",
    "        \n",
    "#ax.add_collection(cc)\n",
    "\n",
    "plt.show()"
   ]
  },
  {
   "cell_type": "code",
   "execution_count": null,
   "metadata": {
    "collapsed": true
   },
   "outputs": [],
   "source": [
    "img = my_aho2.GetBinaryImage()"
   ]
  },
  {
   "cell_type": "code",
   "execution_count": null,
   "metadata": {
    "collapsed": false,
    "scrolled": false
   },
   "outputs": [],
   "source": [
    "fig, ax = plt.subplots(figsize=(10,6))\n",
    "\n",
    "hough = cv2.HoughLinesP(img, 20, np.pi/180.0,100,1,100,65)\n",
    "\n",
    "hh = []\n",
    "\n",
    "for h in hough:\n",
    "    hh.append([(h[0][0],h[0][1]),(h[0][2],h[0][3])])\n",
    "\n",
    "cc2 = mc.LineCollection(hh, linewidths=1)\n",
    "plt.imshow(img,cmap = cm.Greys,interpolation='none')\n",
    "ax.add_collection(cc2)\n",
    "fig.tight_layout()\n",
    "plt.show()"
   ]
  },
  {
   "cell_type": "code",
   "execution_count": null,
   "metadata": {
    "collapsed": false
   },
   "outputs": [],
   "source": [
    "hull = my_aho2.hulls()"
   ]
  },
  {
   "cell_type": "code",
   "execution_count": null,
   "metadata": {
    "collapsed": false
   },
   "outputs": [],
   "source": [
    "my_aho2.houghs()[0][0]"
   ]
  },
  {
   "cell_type": "code",
   "execution_count": null,
   "metadata": {
    "collapsed": true
   },
   "outputs": [],
   "source": []
  }
 ],
 "metadata": {
  "kernelspec": {
   "display_name": "Python 2",
   "language": "python",
   "name": "python2"
  },
  "language_info": {
   "codemirror_mode": {
    "name": "ipython",
    "version": 2
   },
   "file_extension": ".py",
   "mimetype": "text/x-python",
   "name": "python",
   "nbconvert_exporter": "python",
   "pygments_lexer": "ipython2",
   "version": "2.7.5"
  }
 },
 "nbformat": 4,
 "nbformat_minor": 0
}
