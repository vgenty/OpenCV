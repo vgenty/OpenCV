{
 "cells": [
  {
   "cell_type": "code",
   "execution_count": 1,
   "metadata": {
    "collapsed": false
   },
   "outputs": [
    {
     "data": {
      "text/plain": [
       "True"
      ]
     },
     "execution_count": 1,
     "metadata": {},
     "output_type": "execute_result"
    }
   ],
   "source": [
    "#%matplotlib inline\n",
    "\n",
    "import matplotlib\n",
    "import matplotlib.pyplot as plt\n",
    "import matplotlib.image  as mpimg\n",
    "import matplotlib.cm     as cm\n",
    "import matplotlib.collections as mc\n",
    "import numpy as np\n",
    "import cv2\n",
    "\n",
    "from larlite import larlite as fmwk\n",
    "from ROOT import fcllite\n",
    "\n",
    "cfg_mgr = fcllite.ConfigManager()\n",
    "cfg_mgr.AddCfgFile(\"../mac/ClusterHoughPSet.fcl\")\n",
    "\n",
    "config = cfg_mgr.Config()\n",
    "pset = config.get_pset(\"ClusterHough\"); \n",
    "\n",
    "my_proc = fmwk.ana_processor()\n",
    "my_proc.add_input_file(\"/Users/vgenty/Desktop/larlite_reco2d_000.root\")\n",
    "\n",
    "my_proc.set_io_mode(fmwk.storage_manager.kBOTH)                                                                                                                     \n",
    "my_proc.set_output_file(\"aho.root\")\n",
    "my_proc.set_data_to_write(fmwk.data.kHit,'gaushit')                                                                                                                 \n",
    "my_proc.set_data_to_write(fmwk.data.kCluster,'hullcluster')                                                                                                         \n",
    "my_proc.set_data_to_write(fmwk.data.kAssociation,'hullcluster')                 \n",
    "\n",
    "my_unit  = fmwk.HitImageManager()\n",
    "my_aho   = fmwk.AlgoImageMaker()\n",
    "my_aho2  = fmwk.AlgoClusterConvex(pset)\n",
    "\n",
    "my_unit.SetImageMaker(my_aho)\n",
    "my_unit.SetClusterMaker(my_aho2)\n",
    "my_proc.add_process(my_unit)    \n",
    "\n",
    "my_proc.process_event()\n",
    "my_proc.process_event()"
   ]
  },
  {
   "cell_type": "code",
   "execution_count": 2,
   "metadata": {
    "collapsed": false
   },
   "outputs": [
    {
     "data": {
      "text/plain": [
       "True"
      ]
     },
     "execution_count": 2,
     "metadata": {},
     "output_type": "execute_result"
    }
   ],
   "source": [
    "my_proc.process_event()"
   ]
  },
  {
   "cell_type": "code",
   "execution_count": null,
   "metadata": {
    "collapsed": false
   },
   "outputs": [],
   "source": [
    "plt.imshow(my_aho2.GetDilatedImage(2),cmap = cm.Greys,interpolation='none')\n",
    "plt.show()"
   ]
  },
  {
   "cell_type": "code",
   "execution_count": 3,
   "metadata": {
    "collapsed": false
   },
   "outputs": [
    {
     "name": "stderr",
     "output_type": "stream",
     "text": [
      "/Library/Python/2.7/site-packages/matplotlib/image.py:676: UserWarning: The backend (<class 'matplotlib.backends.backend_macosx.RendererMac'>) does not support interpolation='none'. The image will be interpolated with 'nearest` mode.\n",
      "  \"mode.\" % renderer.__class__)\n"
     ]
    }
   ],
   "source": [
    "plt.imshow(my_aho2.GetBinaryImage(2),cmap = cm.Greys,interpolation='none')\n",
    "plt.show()"
   ]
  },
  {
   "cell_type": "code",
   "execution_count": 2,
   "metadata": {
    "collapsed": false
   },
   "outputs": [],
   "source": [
    "fig, ax = plt.subplots(figsize=(10,6))\n",
    "\n",
    "\n",
    "#houghs = my_aho2.houghs(2)\n",
    "#hh=[]\n",
    "#for h in xrange(houghs.size()):\n",
    "#    l = houghs[h]\n",
    "#    hh.append([(l[0],l[1]),(l[2],l[3])])\n",
    "#cc = mc.LineCollection(hh, linewidths=1)\n",
    "\n",
    "hulls = my_aho2.hulls(2)\n",
    "for x in xrange(hulls.size()):\n",
    "    hull = hulls[x]\n",
    "    \n",
    "    x_array = []\n",
    "    y_array = []\n",
    "    for p in xrange(hull.size()):\n",
    "        x_array.append(hull[p].first)\n",
    "        y_array.append(hull[p].second)\n",
    "    x_array.append(x_array[0])\n",
    "    y_array.append(y_array[0])  \n",
    "    \n",
    "    ax.plot(x_array,y_array,color='black',lw=2)\n",
    " \n",
    "pts = my_aho2.other_hits(2)\n",
    "xx= []\n",
    "yy= []\n",
    "for x in xrange(pts.size()):\n",
    "    p = pts[x]\n",
    "\n",
    "    xx.append(p.first)\n",
    "    yy.append(p.second)\n",
    "    \n",
    "ax.plot(xx,yy,'o',markersize=1)\n",
    "\n",
    "pclusters = my_aho2.p_clusters(2)\n",
    "\n",
    "xx= []\n",
    "yy= []\n",
    "for x in xrange(pclusters.size()):\n",
    "    pcluster = pclusters[x]\n",
    "    \n",
    "    hits = pcluster.hits()\n",
    "    xx= []\n",
    "    yy= []\n",
    "    \n",
    "    for i in xrange(hits.size()):\n",
    "        hit = hits[i]\n",
    "        xx.append(hit.first)\n",
    "        yy.append(hit.second)\n",
    "    \n",
    "\n",
    "    ax.plot(xx,yy,'o',markersize=3,c=np.random.rand(3,1))\n",
    "    \n",
    "#ax.add_collection(cc)\n",
    "\n",
    "plt.show()"
   ]
  },
  {
   "cell_type": "code",
   "execution_count": 10,
   "metadata": {
    "collapsed": false
   },
   "outputs": [
    {
     "name": "stdout",
     "output_type": "stream",
     "text": [
      "3\n"
     ]
    }
   ],
   "source": [
    "print my_aho2.possible_break_num(2)"
   ]
  },
  {
   "cell_type": "code",
   "execution_count": null,
   "metadata": {
    "collapsed": false
   },
   "outputs": [],
   "source": [
    "fig,ax = plt.subplots(figsize=(10,6))\n",
    "plane = 2\n",
    "idx   = 1\n",
    "ax.imshow(my_aho2.possible_break(plane,idx),cmap = cm.Greys,interpolation='none')\n",
    "\n",
    "houghs = my_aho2.real_hough_v(plane)[idx]\n",
    "hh=[]\n",
    "for h in xrange(houghs.size()):\n",
    "    l = houghs[h]\n",
    "    hh.append([(l[0],l[1]),(l[2],l[3])])\n",
    "\n",
    "cc = mc.LineCollection(hh, linewidths=1)\n",
    "ax.add_collection(cc)\n",
    "plt.tight_layout()\n",
    "plt.show()"
   ]
  },
  {
   "cell_type": "code",
   "execution_count": 15,
   "metadata": {
    "collapsed": false
   },
   "outputs": [],
   "source": [
    "plane = 2\n",
    "idx   = 1\n",
    "\n",
    "r = my_aho2.possible_break(plane,idx)\n",
    "\n",
    "kernel = cv2.getStructuringElement(cv2.MORPH_ELLIPSE,(5,5))\n",
    "r = cv2.dilate(r,kernel,iterations = 2)\n",
    "r = cv2.blur(r,(5,5))\n",
    "ret,r = cv2.threshold(r,0,255,cv2.THRESH_BINARY)"
   ]
  },
  {
   "cell_type": "code",
   "execution_count": 16,
   "metadata": {
    "collapsed": false
   },
   "outputs": [
    {
     "data": {
      "text/plain": [
       "1"
      ]
     },
     "execution_count": 16,
     "metadata": {},
     "output_type": "execute_result"
    }
   ],
   "source": [
    "_, contours0, hierarchy = cv2.findContours( r.copy(), cv2.RETR_EXTERNAL, cv2.CHAIN_APPROX_SIMPLE)\n",
    "contours = [cv2.approxPolyDP(cnt, 1, True) for cnt in contours0]\n",
    "len(contours)"
   ]
  },
  {
   "cell_type": "code",
   "execution_count": 17,
   "metadata": {
    "collapsed": false
   },
   "outputs": [],
   "source": [
    "x1  = []\n",
    "y1  = []\n",
    "xy1 = []\n",
    "\n",
    "for i in contours[0]:\n",
    "    x1.append(i[0][0])\n",
    "    y1.append(i[0][1])\n",
    "    xy1.append( [i[0][0], i[0][1]] )\n",
    "\n",
    "x1.append(x1[0])\n",
    "y1.append(y1[0])\n",
    "xy1.append([x1[0], y1[0]])\n",
    "\n",
    "chull = cv2.convexHull(np.array(xy1),returnPoints = False)\n",
    "chull = chull[:,0].tolist()\n",
    "chull.append(chull[0])\n",
    "defects = cv2.convexityDefects(np.array(xy1),np.array(chull))\n",
    "\n",
    "x2 = []\n",
    "y2 = []\n",
    "for i in chull:\n",
    "    x2.append(x1[i])\n",
    "    y2.append(y1[i])"
   ]
  },
  {
   "cell_type": "code",
   "execution_count": 18,
   "metadata": {
    "collapsed": false
   },
   "outputs": [],
   "source": [
    "fig,ax = plt.subplots(figsize=(10,6))\n",
    "\n",
    "ax.plot(x1,y1,color='blue',lw=2) \n",
    "ax.plot(x2,y2,color='red',lw=2) \n",
    "\n",
    "lines = []\n",
    "px = []\n",
    "py = []\n",
    "\n",
    "for i in xrange(defects.shape[0]):\n",
    "    s,e,f,d = defects[i,0]\n",
    "    start = (x1[s],y1[s])\n",
    "    end =   (x1[e],y1[e])\n",
    "    far =   (x1[f],y1[f])\n",
    "    lines.append([start, far])\n",
    "    lines.append([far, end])\n",
    "    px.append(x1[f])\n",
    "    py.append(y1[f])\n",
    "\n",
    "lc = mc.LineCollection(lines, linewidths=10,color='green',alpha=0.7)\n",
    "ax.imshow(r,cmap = cm.Greys,interpolation='none')\n",
    "ax.add_collection(lc)\n",
    "plt.plot(px,py,'o',color='purple')\n",
    "ax.autoscale()\n",
    "plt.show()"
   ]
  },
  {
   "cell_type": "code",
   "execution_count": 19,
   "metadata": {
    "collapsed": false
   },
   "outputs": [
    {
     "name": "stdout",
     "output_type": "stream",
     "text": [
      "1.6640625\n",
      "3.4921875\n"
     ]
    }
   ],
   "source": [
    "for i in xrange(len(defects)):\n",
    "    print defects[i][0][3]/256.0"
   ]
  },
  {
   "cell_type": "code",
   "execution_count": null,
   "metadata": {
    "collapsed": false
   },
   "outputs": [],
   "source": [
    "chull.tolist() + [ chull[0][0] ]"
   ]
  },
  {
   "cell_type": "code",
   "execution_count": null,
   "metadata": {
    "collapsed": false
   },
   "outputs": [],
   "source": [
    "k = chull.tolist()"
   ]
  },
  {
   "cell_type": "code",
   "execution_count": null,
   "metadata": {
    "collapsed": false
   },
   "outputs": [],
   "source": [
    "k.append(list(10))"
   ]
  },
  {
   "cell_type": "code",
   "execution_count": null,
   "metadata": {
    "collapsed": false
   },
   "outputs": [],
   "source": [
    "print chull"
   ]
  },
  {
   "cell_type": "code",
   "execution_count": null,
   "metadata": {
    "collapsed": true
   },
   "outputs": [],
   "source": []
  },
  {
   "cell_type": "code",
   "execution_count": null,
   "metadata": {
    "collapsed": true
   },
   "outputs": [],
   "source": []
  }
 ],
 "metadata": {
  "kernelspec": {
   "display_name": "Python 2",
   "language": "python",
   "name": "python2"
  },
  "language_info": {
   "codemirror_mode": {
    "name": "ipython",
    "version": 2
   },
   "file_extension": ".py",
   "mimetype": "text/x-python",
   "name": "python",
   "nbconvert_exporter": "python",
   "pygments_lexer": "ipython2",
   "version": "2.7.5"
  }
 },
 "nbformat": 4,
 "nbformat_minor": 0
}
