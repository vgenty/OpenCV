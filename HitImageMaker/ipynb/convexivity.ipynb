{
 "cells": [
  {
   "cell_type": "code",
   "execution_count": 1,
   "metadata": {
    "collapsed": false
   },
   "outputs": [
    {
     "data": {
      "text/plain": [
       "0.0"
      ]
     },
     "execution_count": 1,
     "metadata": {},
     "output_type": "execute_result"
    }
   ],
   "source": [
    "#%matplotlib inline\n",
    "\n",
    "import matplotlib\n",
    "import matplotlib.pyplot as plt\n",
    "import matplotlib.image  as mpimg\n",
    "import matplotlib.cm     as cm\n",
    "import matplotlib.collections as mc\n",
    "import numpy as np\n",
    "import cv2\n",
    "\n",
    "from larlite import larlite as fmwk\n",
    "from ROOT import fcllite\n",
    "\n",
    "cfg_mgr = fcllite.ConfigManager()\n",
    "cfg_mgr.AddCfgFile(\"../mac/ClusterHoughPSet.fcl\")\n",
    "\n",
    "config = cfg_mgr.Config()\n",
    "pset = config.get_pset(\"ClusterHough\"); \n",
    "\n",
    "my_proc = fmwk.ana_processor()\n",
    "my_proc.add_input_file(\"/Users/vgenty/Desktop/larlite_reco2d_000.root\")\n",
    "\n",
    "my_proc.set_io_mode(fmwk.storage_manager.kBOTH)                                                                                                                     \n",
    "my_proc.set_output_file(\"aho.root\")\n",
    "my_proc.set_data_to_write(fmwk.data.kHit,'gaushit')                                                                                                                 \n",
    "my_proc.set_data_to_write(fmwk.data.kCluster,'hullcluster')                                                                                                         \n",
    "my_proc.set_data_to_write(fmwk.data.kAssociation,'hullcluster')                 \n",
    "\n",
    "my_unit  = fmwk.HitImageManager()\n",
    "my_aho   = fmwk.AlgoImageMaker()\n",
    "my_aho2  = fmwk.AlgoClusterConvex(pset)\n",
    "\n",
    "my_unit.SetImageMaker(my_aho)\n",
    "my_unit.SetClusterMaker(my_aho2)\n",
    "my_proc.add_process(my_unit)    "
   ]
  },
  {
   "cell_type": "code",
   "execution_count": 2,
   "metadata": {
    "collapsed": false
   },
   "outputs": [
    {
     "data": {
      "text/plain": [
       "True"
      ]
     },
     "execution_count": 2,
     "metadata": {},
     "output_type": "execute_result"
    }
   ],
   "source": [
    "my_proc.process_event()"
   ]
  },
  {
   "cell_type": "code",
   "execution_count": 3,
   "metadata": {
    "collapsed": false
   },
   "outputs": [
    {
     "name": "stdout",
     "output_type": "stream",
     "text": [
      "4\n"
     ]
    }
   ],
   "source": [
    "plane = 2\n",
    "n_hulls = my_aho2.possible_break_num(plane)\n",
    "print n_hulls"
   ]
  },
  {
   "cell_type": "code",
   "execution_count": 12,
   "metadata": {
    "collapsed": false
   },
   "outputs": [
    {
     "name": "stdout",
     "output_type": "stream",
     "text": [
      "I found...6 contours\n",
      "1034\n"
     ]
    }
   ],
   "source": [
    "idx = 0\n",
    "r = my_aho2.possible_break(plane,idx)\n",
    "\n",
    "kernel = cv2.getStructuringElement(cv2.MORPH_ELLIPSE,(5,5))\n",
    "r = cv2.dilate(r,kernel,iterations = 2)\n",
    "r = cv2.blur(r,(5,5))\n",
    "ret,r = cv2.threshold(r,0,255,cv2.THRESH_BINARY)\n",
    "\n",
    "_, contours0, hierarchy = cv2.findContours( r.copy(), cv2.RETR_EXTERNAL, cv2.CHAIN_APPROX_SIMPLE)\n",
    "contours = [cv2.approxPolyDP(cnt, 0.1, True) for cnt in contours0]\n",
    "print 'I found...%d contours' % len(contours)\n",
    "\n",
    "contours.sort(key = len)\n",
    "ctor = -1\n",
    "print len(contours[ctor])\n",
    "\n",
    "x1  = []\n",
    "y1  = []\n",
    "xy1 = []\n",
    "\n",
    "for i in contours[ctor]:\n",
    "    x1.append(i[0][0])\n",
    "    y1.append(i[0][1])\n",
    "    xy1.append( [i[0][0], i[0][1]] )\n",
    "\n",
    "x1.append(x1[0])\n",
    "y1.append(y1[0])\n",
    "xy1.append([x1[0], y1[0]])\n",
    "\n",
    "chull = cv2.convexHull(np.array(xy1),returnPoints = False)\n",
    "chull = chull[:,0].tolist()\n",
    "chull.append(chull[0])\n",
    "defects = cv2.convexityDefects(np.array(xy1),np.array(chull))\n",
    "\n",
    "x2 = []\n",
    "y2 = []\n",
    "for i in chull:\n",
    "    x2.append(x1[i])\n",
    "    y2.append(y1[i])\n",
    "    \n",
    "fig,ax = plt.subplots(figsize=(10,6))\n",
    "\n",
    "ax.plot(x1,y1,color='blue',lw=2) \n",
    "ax.plot(x2,y2,color='red',lw=2) \n",
    "\n",
    "lines = []\n",
    "px = []\n",
    "py = []\n",
    "\n",
    "for i in xrange(defects.shape[0]):\n",
    "    s,e,f,d = defects[i,0]\n",
    "    start = (x1[s],y1[s])\n",
    "    end =   (x1[e],y1[e])\n",
    "    far =   (x1[f],y1[f])\n",
    "    lines.append([start, far])\n",
    "    lines.append([far, end])\n",
    "    px.append(x1[f])\n",
    "    py.append(y1[f])\n",
    "\n",
    "lc = mc.LineCollection(lines, linewidths=10,color='green',alpha=0.7)\n",
    "ax.imshow(r,cmap = cm.Greys,interpolation='none')\n",
    "ax.add_collection(lc)\n",
    "ax.plot(px,py,'o',color='purple')\n",
    "ax.autoscale()\n",
    "plt.show()"
   ]
  },
  {
   "cell_type": "code",
   "execution_count": 10,
   "metadata": {
    "collapsed": false
   },
   "outputs": [
    {
     "name": "stdout",
     "output_type": "stream",
     "text": [
      "57.1328125\n",
      "0.4453125\n",
      "8.9296875\n",
      "26.7890625\n",
      "0.8203125\n",
      "0.84765625\n",
      "6.0\n",
      "38.390625\n",
      "0.4453125\n",
      "24.5078125\n",
      "6.32421875\n"
     ]
    }
   ],
   "source": [
    "for i in xrange(len(defects)):\n",
    "    print defects[i][0][3]/256.0"
   ]
  },
  {
   "cell_type": "code",
   "execution_count": 30,
   "metadata": {
    "collapsed": false
   },
   "outputs": [],
   "source": []
  },
  {
   "cell_type": "code",
   "execution_count": 20,
   "metadata": {
    "collapsed": false
   },
   "outputs": [
    {
     "data": {
      "text/plain": [
       "2"
      ]
     },
     "execution_count": 20,
     "metadata": {},
     "output_type": "execute_result"
    }
   ],
   "source": [
    "defects.shape[0]"
   ]
  },
  {
   "cell_type": "code",
   "execution_count": null,
   "metadata": {
    "collapsed": true
   },
   "outputs": [],
   "source": []
  }
 ],
 "metadata": {
  "kernelspec": {
   "display_name": "Python 2",
   "language": "python",
   "name": "python2"
  },
  "language_info": {
   "codemirror_mode": {
    "name": "ipython",
    "version": 2
   },
   "file_extension": ".py",
   "mimetype": "text/x-python",
   "name": "python",
   "nbconvert_exporter": "python",
   "pygments_lexer": "ipython2",
   "version": "2.7.5"
  }
 },
 "nbformat": 4,
 "nbformat_minor": 0
}
