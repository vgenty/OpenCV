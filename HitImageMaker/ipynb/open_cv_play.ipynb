{
 "cells": [
  {
   "cell_type": "code",
   "execution_count": null,
   "metadata": {
    "collapsed": true
   },
   "outputs": [],
   "source": [
    "# %matplotlib inline\n",
    "import matplotlib\n",
    "import matplotlib.pyplot as plt\n",
    "import matplotlib.image  as mpimg\n",
    "import matplotlib.cm     as cm\n",
    "import numpy as np"
   ]
  },
  {
   "cell_type": "code",
   "execution_count": null,
   "metadata": {
    "collapsed": false
   },
   "outputs": [],
   "source": [
    "from larlite import larlite as fmwk\n",
    "my_proc = fmwk.ana_processor()\n",
    "my_proc.add_input_file(\"/Users/vgenty/Desktop/larlite_reco2d_0000.root\")\n",
    "my_proc.set_io_mode(fmwk.storage_manager.kREAD) \n",
    "my_unit = fmwk.HitImageMaker()\n",
    "my_proc.add_process(my_unit)    "
   ]
  },
  {
   "cell_type": "code",
   "execution_count": null,
   "metadata": {
    "collapsed": false
   },
   "outputs": [],
   "source": [
    "my_proc.process_event()"
   ]
  },
  {
   "cell_type": "code",
   "execution_count": null,
   "metadata": {
    "collapsed": false
   },
   "outputs": [],
   "source": [
    "#Get the plane 2 image for this event and plot them\n",
    "image = my_unit.GetImage(2)\n",
    "canny = my_unit.GetCanny(2)\n",
    "\n",
    "fig = plt.subplots(figsize=(20,6))\n",
    "ax = plt.subplot(3,1,1)\n",
    "ax.imshow(image,cmap = cm.Greys,interpolation='none')\n",
    "ax = plt.subplot(3,1,2)\n",
    "ax.imshow(canny,cmap = cm.Greys,interpolation='none')\n",
    "ax = plt.subplot(3,1,3)\n",
    "ax.imshow(canny,cmap = cm.Greys,interpolation='none')\n",
    "for x in xrange(my_unit.NumContours(2)):\n",
    "    x_array, y_array = my_unit.GetContour(2,x)\n",
    "    ax.plot(x_array,y_array)  \n",
    "\n",
    "plt.show()"
   ]
  },
  {
   "cell_type": "code",
   "execution_count": null,
   "metadata": {
    "collapsed": false
   },
   "outputs": [],
   "source": [
    "mat = my_unit.GetMat(2)"
   ]
  },
  {
   "cell_type": "code",
   "execution_count": null,
   "metadata": {
    "collapsed": false
   },
   "outputs": [],
   "source": [
    "import cv2"
   ]
  },
  {
   "cell_type": "code",
   "execution_count": null,
   "metadata": {
    "collapsed": false
   },
   "outputs": [],
   "source": [
    "mat"
   ]
  },
  {
   "cell_type": "code",
   "execution_count": null,
   "metadata": {
    "collapsed": false
   },
   "outputs": [],
   "source": [
    "cv2.Canny(mat,10,100,3); "
   ]
  },
  {
   "cell_type": "code",
   "execution_count": null,
   "metadata": {
    "collapsed": false
   },
   "outputs": [],
   "source": [
    "mat2 = mat.clone()"
   ]
  },
  {
   "cell_type": "code",
   "execution_count": null,
   "metadata": {
    "collapsed": false
   },
   "outputs": [],
   "source": [
    "cv2.blur?"
   ]
  },
  {
   "cell_type": "code",
   "execution_count": null,
   "metadata": {
    "collapsed": false
   },
   "outputs": [],
   "source": [
    "mat?"
   ]
  },
  {
   "cell_type": "code",
   "execution_count": null,
   "metadata": {
    "collapsed": true
   },
   "outputs": [],
   "source": []
  }
 ],
 "metadata": {
  "kernelspec": {
   "display_name": "Python 2",
   "language": "python",
   "name": "python2"
  },
  "language_info": {
   "codemirror_mode": {
    "name": "ipython",
    "version": 2
   },
   "file_extension": ".py",
   "mimetype": "text/x-python",
   "name": "python",
   "nbconvert_exporter": "python",
   "pygments_lexer": "ipython2",
   "version": "2.7.5"
  }
 },
 "nbformat": 4,
 "nbformat_minor": 0
}
