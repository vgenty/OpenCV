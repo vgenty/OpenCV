{
 "cells": [
  {
   "cell_type": "code",
   "execution_count": 3,
   "metadata": {
    "collapsed": false
   },
   "outputs": [],
   "source": [
    "import matplotlib\n",
    "import matplotlib.pyplot as plt\n",
    "import matplotlib.image  as mpimg\n",
    "import matplotlib.cm     as cm\n",
    "import matplotlib.collections as mc\n",
    "import numpy as np\n",
    "import cv2\n",
    "import sys\n",
    "\n",
    "from larlite import larlite as fmwk\n",
    "plt.rcParams.update({'font.size': 16}) \n",
    "\n",
    "filename_el = str(\"../mac/deleteme_basics_el.root\")\n",
    "filename_mu = str(\"../mac/deleteme_basics_mu.root\")"
   ]
  },
  {
   "cell_type": "code",
   "execution_count": 5,
   "metadata": {
    "collapsed": false
   },
   "outputs": [
    {
     "name": "stdout",
     "output_type": "stream",
     "text": [
      "muons\n"
     ]
    }
   ],
   "source": [
    "electrons = []\n",
    "muons     = []\n",
    "\n",
    "electrons_hullarea         = []\n",
    "electrons_hullperimeter    = []\n",
    "electrons_contourarea      = []\n",
    "electrons_contourperimeter = []\n",
    "\n",
    "electrons_num = []\n",
    "\n",
    "muons_hullarea         = []\n",
    "muons_hullperimeter    = []\n",
    "muons_contourarea      = []\n",
    "muons_contourperimeter = []\n",
    "\n",
    "muons_num = []\n",
    "\n",
    "#### ELECTRONS\n",
    "storage = fmwk.storage_manager()\n",
    "storage.add_in_filename(filename_el)\n",
    "storage.set_io_mode(storage.kREAD)\n",
    "storage.open()\n",
    "\n",
    "while ( storage.next_event() ):\n",
    "\n",
    "\n",
    "    clusters = storage.get_data(fmwk.data.kCluster,\"hullcluster\")\n",
    "    hits     = storage.get_data(fmwk.data.kHit,\"gaushit\")\n",
    "    ass_data = storage.get_data(fmwk.data.kAssociation,\"hullcluster\")\n",
    "\n",
    "\n",
    "    cluster_to_hit_ass = ass_data.association(clusters.id(),hits.id());\n",
    "\n",
    "\n",
    "    for c in xrange(cluster_to_hit_ass.size()) :\n",
    "\n",
    "\n",
    "        xx= []; yy= [];\n",
    "\n",
    "    \n",
    "        electrons_num.append(cluster_to_hit_ass[c].size())\n",
    "        \n",
    "        #for h in xrange(cluster_to_hit_ass[c].size()):\n",
    "        #    hit_idx = cluster_to_hit_ass[c][h]\n",
    "        #    xx.append(hits[hit_idx].WireID().Wire); yy.append(hits[hit_idx].PeakTime())\n",
    "\n",
    "\n",
    "        #electrons_hullarea.append(clusters[c].ConvexHullArea())\n",
    "        #electrons_hullperimeter.append(clusters[c].ConvexHullPerimeter())\n",
    "        electrons_contourarea.append(clusters[c].ContourArea())\n",
    "        electrons_contourperimeter.append(clusters[c].ContourPerimeter())\n",
    "\n",
    "clusters=[]\n",
    "print \"muons\"\n",
    "#### MUONS\n",
    "storage = fmwk.storage_manager()\n",
    "storage.add_in_filename(filename_mu)\n",
    "storage.set_io_mode(storage.kREAD)\n",
    "storage.open()\n",
    "\n",
    "while ( storage.next_event() ):\n",
    "\n",
    "\n",
    "    clusters = storage.get_data(fmwk.data.kCluster,\"hullcluster\")\n",
    "    hits     = storage.get_data(fmwk.data.kHit,\"gaushit\")\n",
    "    ass_data = storage.get_data(fmwk.data.kAssociation,\"hullcluster\")\n",
    "\n",
    "\n",
    "    cluster_to_hit_ass = ass_data.association(clusters.id(),hits.id());\n",
    "\n",
    "\n",
    "    for c in xrange(cluster_to_hit_ass.size()) :\n",
    "\n",
    "        xx= []; yy= [];\n",
    "\n",
    "        muons_num.append(cluster_to_hit_ass[c].size())\n",
    "        \n",
    "        #for h in xrange(cluster_to_hit_ass[c].size()):\n",
    "        #    hit_idx = cluster_to_hit_ass[c][h]\n",
    "        #    xx.append(hits[hit_idx].WireID().Wire); yy.append(hits[hit_idx].PeakTime())\n",
    "        \n",
    "        \n",
    "        #muons_hullarea.append(clusters[c].ConvexHullArea())\n",
    "        #muons_hullperimeter.append(clusters[c].ConvexHullPerimeter())\n",
    "        muons_contourarea.append(clusters[c].ContourArea())\n",
    "        muons_contourperimeter.append(clusters[c].ContourPerimeter())\n",
    "\n",
    "\n"
   ]
  },
  {
   "cell_type": "code",
   "execution_count": 7,
   "metadata": {
    "collapsed": false
   },
   "outputs": [],
   "source": [
    "size_cut=50\n",
    "\n",
    "e_contourarea     = [electrons_contourarea[i] for i in xrange(len(electrons_contourarea)) if electrons_num[i] > size_cut]\n",
    "e_contourperimeter = [electrons_contourperimeter[i] for i in xrange(len(electrons_contourperimeter)) if electrons_num[i] > size_cut]\n",
    "m_contourarea     = [muons_contourarea[i] for i in xrange(len(muons_contourarea)) if muons_num[i] > size_cut]\n",
    "m_contourperimeter = [muons_contourperimeter[i] for i in xrange(len(muons_contourperimeter)) if muons_num[i] > size_cut]"
   ]
  },
  {
   "cell_type": "code",
   "execution_count": 8,
   "metadata": {
    "collapsed": true
   },
   "outputs": [],
   "source": [
    "e_contourarea      = np.array(e_contourarea)\n",
    "e_contourperimeter = np.array(e_contourperimeter)\n",
    "\n",
    "m_contourarea         =  np.array(m_contourarea)\n",
    "m_contourperimeter    =  np.array(m_contourperimeter)\n",
    "\n",
    "#electrons_hullarea      = np.array(electrons_hullarea)\n",
    "#electrons_hullperimeter = np.array(electrons_hullperimeter)\n",
    "\n",
    "#muons_hullarea         =  np.array(muons_hullarea)\n",
    "#muons_hullperimeter    =  np.array(muons_hullperimeter)"
   ]
  },
  {
   "cell_type": "code",
   "execution_count": 10,
   "metadata": {
    "collapsed": false
   },
   "outputs": [
    {
     "name": "stderr",
     "output_type": "stream",
     "text": [
      "/Library/Python/2.7/site-packages/matplotlib/axes/_axes.py:6001: RuntimeWarning: invalid value encountered in true_divide\n",
      "  m = (m.astype(float) / db) / m.sum()\n"
     ]
    }
   ],
   "source": [
    "fig,ax = plt.subplots(figsize=(10,6))\n",
    "\n",
    "#ax = plt.subplot(2,1,1)\n",
    "ax.hist(m_contourperimeter / m_contourarea,bins=np.arange(0,1,0.005),color='red',alpha=0.5,normed=1)\n",
    "ax.hist(e_contourperimeter / e_contourarea,bins=np.arange(0,1,0.005),color='blue',alpha=0.5,normed=1)\n",
    "ax.autoscale()\n",
    "ax.set_xlabel(\"perimeter/area\")\n",
    "ax.set_ylabel(\"count (normalized)\")\n",
    "\n",
    "\n",
    "plt.show()"
   ]
  },
  {
   "cell_type": "code",
   "execution_count": null,
   "metadata": {
    "collapsed": false
   },
   "outputs": [],
   "source": []
  },
  {
   "cell_type": "code",
   "execution_count": null,
   "metadata": {
    "collapsed": true
   },
   "outputs": [],
   "source": []
  }
 ],
 "metadata": {
  "kernelspec": {
   "display_name": "Python 2",
   "language": "python",
   "name": "python2"
  },
  "language_info": {
   "codemirror_mode": {
    "name": "ipython",
    "version": 2
   },
   "file_extension": ".py",
   "mimetype": "text/x-python",
   "name": "python",
   "nbconvert_exporter": "python",
   "pygments_lexer": "ipython2",
   "version": "2.7.5"
  }
 },
 "nbformat": 4,
 "nbformat_minor": 0
}
