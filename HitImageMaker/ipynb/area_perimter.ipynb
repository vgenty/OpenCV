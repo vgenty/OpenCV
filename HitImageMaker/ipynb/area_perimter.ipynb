{
 "cells": [
  {
   "cell_type": "code",
   "execution_count": 1,
   "metadata": {
    "collapsed": false
   },
   "outputs": [],
   "source": [
    "import matplotlib\n",
    "import matplotlib.pyplot as plt\n",
    "import matplotlib.image  as mpimg\n",
    "import matplotlib.cm     as cm\n",
    "import matplotlib.collections as mc\n",
    "import numpy as np\n",
    "import cv2\n",
    "import sys\n",
    "\n",
    "from larlite import larlite as fmwk\n",
    "plt.rcParams.update({'font.size': 16}) \n",
    "\n",
    "filename_el = str(\"deleteme_el.root\")\n",
    "filename_mu = str(\"deleteme_mu.root\")"
   ]
  },
  {
   "cell_type": "code",
   "execution_count": 6,
   "metadata": {
    "collapsed": false
   },
   "outputs": [
    {
     "name": "stdout",
     "output_type": "stream",
     "text": [
      "muons\n"
     ]
    }
   ],
   "source": [
    "electrons = []\n",
    "muons     = []\n",
    "\n",
    "electrons_hullarea         = []\n",
    "electrons_hullperimeter    = []\n",
    "electrons_contourarea      = []\n",
    "electrons_contourperimeter = []\n",
    "\n",
    "\n",
    "muons_hullarea         = []\n",
    "muons_hullperimeter    = []\n",
    "muons_contourarea      = []\n",
    "muons_contourperimeter = []\n",
    "\n",
    "sizecut = 50;\n",
    "\n",
    "#### ELECTRONS\n",
    "storage = fmwk.storage_manager()\n",
    "storage.add_in_filename(filename_el)\n",
    "storage.set_io_mode(storage.kREAD)\n",
    "storage.open()\n",
    "\n",
    "while ( storage.next_event() ):\n",
    "\n",
    "\n",
    "    clusters = storage.get_data(fmwk.data.kCluster,\"hullcluster\")\n",
    "    hits     = storage.get_data(fmwk.data.kHit,\"gaushit\")\n",
    "    ass_data = storage.get_data(fmwk.data.kAssociation,\"hullcluster\")\n",
    "\n",
    "\n",
    "    cluster_to_hit_ass = ass_data.association(clusters.id(),hits.id());\n",
    "\n",
    "\n",
    "    for c in xrange(cluster_to_hit_ass.size()) :\n",
    "\n",
    "\n",
    "        xx= []; yy= [];\n",
    "\n",
    "\n",
    "      \n",
    "        if cluster_to_hit_ass[c].size() < sizecut:\n",
    "            continue\n",
    "            \n",
    "        for h in xrange(cluster_to_hit_ass[c].size()):\n",
    "            hit_idx = cluster_to_hit_ass[c][h]\n",
    "            xx.append(hits[hit_idx].WireID().Wire); yy.append(hits[hit_idx].PeakTime())\n",
    "        defects = clusters[c].defects()\n",
    "        d = []\n",
    "        if defects.size() == 0:\n",
    "            continue\n",
    "            \n",
    "        for i in xrange(defects.size()):\n",
    "            defect = defects[i]\n",
    "            d.append(defect)\n",
    "\n",
    "        electrons.append((np.array(d),cluster_to_hit_ass[c].size()))\n",
    "\n",
    "        electrons_hullarea.append(clusters[c].ConvexHullArea())\n",
    "        electrons_hullperimeter.append(clusters[c].ConvexHullPerimeter())\n",
    "        electrons_contourarea.append(clusters[c].ContourArea())\n",
    "        electrons_contourperimeter.append(clusters[c].ContourPerimeter())\n",
    "\n",
    "clusters=[]\n",
    "print \"muons\"\n",
    "#### MUONS\n",
    "storage = fmwk.storage_manager()\n",
    "storage.add_in_filename(filename_mu)\n",
    "storage.set_io_mode(storage.kREAD)\n",
    "storage.open()\n",
    "\n",
    "while ( storage.next_event() ):\n",
    "\n",
    "\n",
    "    clusters = storage.get_data(fmwk.data.kCluster,\"hullcluster\")\n",
    "    hits     = storage.get_data(fmwk.data.kHit,\"gaushit\")\n",
    "    ass_data = storage.get_data(fmwk.data.kAssociation,\"hullcluster\")\n",
    "\n",
    "\n",
    "    cluster_to_hit_ass = ass_data.association(clusters.id(),hits.id());\n",
    "\n",
    "\n",
    "    for c in xrange(cluster_to_hit_ass.size()) :\n",
    "\n",
    "        xx= []; yy= [];\n",
    "\n",
    "        \n",
    "        if cluster_to_hit_ass[c].size() < sizecut:\n",
    "            continue\n",
    "            \n",
    "        for h in xrange(cluster_to_hit_ass[c].size()):\n",
    "            hit_idx = cluster_to_hit_ass[c][h]\n",
    "            xx.append(hits[hit_idx].WireID().Wire); yy.append(hits[hit_idx].PeakTime())\n",
    "        defects = clusters[c].defects()\n",
    "        d = []\n",
    "        if defects.size() == 0:\n",
    "            continue\n",
    "            \n",
    "        for i in xrange(defects.size()):\n",
    "            defect = defects[i]\n",
    "            d.append(defect)\n",
    "\n",
    "        muons.append((np.array(d),cluster_to_hit_ass[c].size()))\n",
    "        \n",
    "        \n",
    "        muons_hullarea.append(clusters[c].ConvexHullArea())\n",
    "        muons_hullperimeter.append(clusters[c].ConvexHullPerimeter())\n",
    "        muons_contourarea.append(clusters[c].ContourArea())\n",
    "        muons_contourperimeter.append(clusters[c].ContourPerimeter())\n",
    "\n",
    "\n"
   ]
  },
  {
   "cell_type": "code",
   "execution_count": 9,
   "metadata": {
    "collapsed": false
   },
   "outputs": [],
   "source": [
    "means_elec = [e[0].std() for e in electrons]\n",
    "means_muon = [m[0].std() for m in muons if m[1] > 20 ]"
   ]
  },
  {
   "cell_type": "code",
   "execution_count": 87,
   "metadata": {
    "collapsed": false
   },
   "outputs": [],
   "source": [
    "fig, ax = plt.subplots(figsize=(10,6))\n",
    "ax.hist(means_elec,color='blue',alpha=0.25)\n",
    "ax.hist(means_muon,color='red',alpha=0.25)\n",
    "plt.show()"
   ]
  },
  {
   "cell_type": "code",
   "execution_count": 5,
   "metadata": {
    "collapsed": false
   },
   "outputs": [],
   "source": [
    "sizecut = 0;\n",
    "\n",
    "elec1 = [e[0].mean() for e in electrons if e[1] > sizecut]\n",
    "elec2 = [e[1]        for e in electrons if e[1] > sizecut]\n",
    "mu1   = [m[0].mean() for m in muons  if m[1] > sizecut]\n",
    "mu2   = [m[1]        for m in muons  if m[1] > sizecut]\n",
    "\n",
    "fig, ax = plt.subplots(figsize=(10,6))\n",
    "ax.scatter(elec1,elec2,color='blue',alpha=0.5)\n",
    "ax.scatter(mu1,mu2,color='red',alpha=0.5)\n",
    "ax.set_xlabel(\"Size of Cluster\")\n",
    "ax.set_ylabel(\"Mean Defect Size\")\n",
    "ax.autoscale()\n",
    "plt.show()"
   ]
  },
  {
   "cell_type": "code",
   "execution_count": 7,
   "metadata": {
    "collapsed": true
   },
   "outputs": [],
   "source": [
    "electrons_contourarea      = np.array(electrons_contourarea)\n",
    "electrons_contourperimeter = np.array(electrons_contourperimeter)\n",
    "\n",
    "muons_contourarea         =  np.array(muons_contourarea)\n",
    "muons_contourperimeter    =  np.array(muons_contourperimeter)\n",
    "\n",
    "electrons_hullarea      = np.array(electrons_hullarea)\n",
    "electrons_hullperimeter = np.array(electrons_hullperimeter)\n",
    "\n",
    "muons_hullarea         =  np.array(muons_hullarea)\n",
    "muons_hullperimeter    =  np.array(muons_hullperimeter)"
   ]
  },
  {
   "cell_type": "code",
   "execution_count": null,
   "metadata": {
    "collapsed": false
   },
   "outputs": [],
   "source": [
    "fig,ax = plt.subplots(figsize=(10,6))\n",
    "#ax = plt.subplot(2,1,1)\n",
    "ax.hist(muons_contourperimeter / muons_contourarea,bins=np.arange(0,1,0.005),color='red',alpha=0.5,normed=1)\n",
    "ax.hist(electrons_contourperimeter / electrons_contourarea,bins=np.arange(0,1,0.005),color='blue',alpha=0.5,normed=1)\n",
    "ax.autoscale()\n",
    "ax.set_xlabel(\"perimeter/area\")\n",
    "ax.set_ylabel(\"count (normalized)\")\n",
    "\n",
    "#ax = plt.subplot(2,1,2)\n",
    "#ax.hist(muons_hullperimeter / muons_hullarea,bins=np.arange(0,1,0.005),color='red',alpha=0.5,normed=1)\n",
    "#ax.hist(electrons_hullperimeter / electrons_hullarea,bins=np.arange(0,1,0.005),color='blue',alpha=0.5,normed=1)\n",
    "#ax.autoscale()\n",
    "\n",
    "plt.show()"
   ]
  },
  {
   "cell_type": "code",
   "execution_count": 4,
   "metadata": {
    "collapsed": false
   },
   "outputs": [
    {
     "data": {
      "text/plain": [
       "array([ 7209. ,   106. ,  2787.5, ...,  1363. ,   749. ,  6678.5])"
      ]
     },
     "execution_count": 4,
     "metadata": {},
     "output_type": "execute_result"
    }
   ],
   "source": []
  },
  {
   "cell_type": "code",
   "execution_count": null,
   "metadata": {
    "collapsed": true
   },
   "outputs": [],
   "source": []
  }
 ],
 "metadata": {
  "kernelspec": {
   "display_name": "Python 2",
   "language": "python",
   "name": "python2"
  },
  "language_info": {
   "codemirror_mode": {
    "name": "ipython",
    "version": 2
   },
   "file_extension": ".py",
   "mimetype": "text/x-python",
   "name": "python",
   "nbconvert_exporter": "python",
   "pygments_lexer": "ipython2",
   "version": "2.7.5"
  }
 },
 "nbformat": 4,
 "nbformat_minor": 0
}
