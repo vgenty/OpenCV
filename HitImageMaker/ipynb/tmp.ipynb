{
 "cells": [
  {
   "cell_type": "code",
   "execution_count": 78,
   "metadata": {
    "collapsed": false
   },
   "outputs": [],
   "source": [
    "import matplotlib\n",
    "import matplotlib.pyplot as plt\n",
    "import matplotlib.image  as mpimg\n",
    "import matplotlib.cm     as cm\n",
    "import matplotlib.collections as mc\n",
    "import numpy as np\n",
    "import cv2\n",
    "import sys\n",
    "\n",
    "from larlite import larlite as fmwk"
   ]
  },
  {
   "cell_type": "code",
   "execution_count": 110,
   "metadata": {
    "collapsed": true
   },
   "outputs": [],
   "source": [
    "plt.rcParams.update({'font.size': 16}) "
   ]
  },
  {
   "cell_type": "code",
   "execution_count": 79,
   "metadata": {
    "collapsed": true
   },
   "outputs": [],
   "source": [
    "filename_el = str(\"deleteme_el.root\")\n",
    "filename_mu = str(\"deleteme_mu.root\")"
   ]
  },
  {
   "cell_type": "code",
   "execution_count": 80,
   "metadata": {
    "collapsed": true
   },
   "outputs": [],
   "source": [
    "electrons = []\n",
    "muons     = []"
   ]
  },
  {
   "cell_type": "code",
   "execution_count": 81,
   "metadata": {
    "collapsed": false
   },
   "outputs": [],
   "source": [
    "#### ELECTRONS\n",
    "storage = fmwk.storage_manager()\n",
    "storage.add_in_filename(filename_el)\n",
    "storage.set_io_mode(storage.kREAD)\n",
    "storage.open()\n",
    "\n",
    "while ( storage.next_event() ):\n",
    "\n",
    "\n",
    "    clusters = storage.get_data(fmwk.data.kCluster,\"hullcluster\")\n",
    "    hits     = storage.get_data(fmwk.data.kHit,\"gaushit\")\n",
    "    ass_data = storage.get_data(fmwk.data.kAssociation,\"hullcluster\")\n",
    "\n",
    "\n",
    "    cluster_to_hit_ass = ass_data.association(clusters.id(),hits.id());\n",
    "\n",
    "\n",
    "    for c in xrange(cluster_to_hit_ass.size()) :\n",
    "\n",
    "\n",
    "        xx= []; yy= [];\n",
    "\n",
    "        if clusters[c].View() != 0:\n",
    "            continue\n",
    "\n",
    "        for h in xrange(cluster_to_hit_ass[c].size()):\n",
    "            hit_idx = cluster_to_hit_ass[c][h]\n",
    "            xx.append(hits[hit_idx].WireID().Wire); yy.append(hits[hit_idx].PeakTime())\n",
    "        defects = clusters[c].defects()\n",
    "        d = []\n",
    "        if defects.size() == 0:\n",
    "            continue\n",
    "            \n",
    "        for i in xrange(defects.size()):\n",
    "            defect = defects[i]\n",
    "            d.append(defect)\n",
    "\n",
    "        electrons.append((np.array(d),cluster_to_hit_ass[c].size()))\n",
    "\n",
    "#### MUONS\n",
    "storage = fmwk.storage_manager()\n",
    "storage.add_in_filename(filename_mu)\n",
    "storage.set_io_mode(storage.kREAD)\n",
    "storage.open()\n",
    "\n",
    "while ( storage.next_event() ):\n",
    "\n",
    "\n",
    "    clusters = storage.get_data(fmwk.data.kCluster,\"hullcluster\")\n",
    "    hits     = storage.get_data(fmwk.data.kHit,\"gaushit\")\n",
    "    ass_data = storage.get_data(fmwk.data.kAssociation,\"hullcluster\")\n",
    "\n",
    "\n",
    "    cluster_to_hit_ass = ass_data.association(clusters.id(),hits.id());\n",
    "\n",
    "\n",
    "    for c in xrange(cluster_to_hit_ass.size()) :\n",
    "\n",
    "\n",
    "        xx= []; yy= [];\n",
    "\n",
    "        if clusters[c].View() != 0:\n",
    "            continue\n",
    "\n",
    "        for h in xrange(cluster_to_hit_ass[c].size()):\n",
    "            hit_idx = cluster_to_hit_ass[c][h]\n",
    "            xx.append(hits[hit_idx].WireID().Wire); yy.append(hits[hit_idx].PeakTime())\n",
    "        defects = clusters[c].defects()\n",
    "        d = []\n",
    "        if defects.size() == 0:\n",
    "            continue\n",
    "            \n",
    "        for i in xrange(defects.size()):\n",
    "            defect = defects[i]\n",
    "            d.append(defect)\n",
    "\n",
    "        muons.append((np.array(d),cluster_to_hit_ass[c].size()))\n",
    "\n",
    "\n",
    "\n"
   ]
  },
  {
   "cell_type": "code",
   "execution_count": 86,
   "metadata": {
    "collapsed": false
   },
   "outputs": [],
   "source": [
    "means_elec = [e[0].std() for e in electrons]\n",
    "means_muon = [m[0].std() for m in muons if m[1] > 20 ]"
   ]
  },
  {
   "cell_type": "code",
   "execution_count": 87,
   "metadata": {
    "collapsed": false
   },
   "outputs": [],
   "source": [
    "fig, ax = plt.subplots(figsize=(10,6))\n",
    "ax.hist(means_elec,color='blue',alpha=0.25)\n",
    "ax.hist(means_muon,color='red',alpha=0.25)\n",
    "plt.show()"
   ]
  },
  {
   "cell_type": "code",
   "execution_count": 111,
   "metadata": {
    "collapsed": false
   },
   "outputs": [],
   "source": [
    "sizecut = 0;\n",
    "\n",
    "elec1 = [e[0].mean() for e in electrons if e[1] > sizecut]\n",
    "elec2 = [e[1]        for e in electrons if e[1] > sizecut]\n",
    "mu1   = [m[0].mean() for m in muons  if m[1] > sizecut]\n",
    "mu2   = [m[1]        for m in muons  if m[1] > sizecut]\n",
    "\n",
    "fig, ax = plt.subplots(figsize=(10,6))\n",
    "ax.scatter(elec1,elec2,color='blue',alpha=0.5)\n",
    "ax.scatter(mu1,mu2,color='red',alpha=0.5)\n",
    "ax.set_xlabel(\"Size of Cluster\")\n",
    "ax.set_ylabel(\"Mean Defect Size\")\n",
    "ax.autoscale()\n",
    "plt.show()"
   ]
  },
  {
   "cell_type": "code",
   "execution_count": 105,
   "metadata": {
    "collapsed": false
   },
   "outputs": [],
   "source": []
  },
  {
   "cell_type": "code",
   "execution_count": null,
   "metadata": {
    "collapsed": true
   },
   "outputs": [],
   "source": []
  }
 ],
 "metadata": {
  "kernelspec": {
   "display_name": "Python 2",
   "language": "python",
   "name": "python2"
  },
  "language_info": {
   "codemirror_mode": {
    "name": "ipython",
    "version": 2
   },
   "file_extension": ".py",
   "mimetype": "text/x-python",
   "name": "python",
   "nbconvert_exporter": "python",
   "pygments_lexer": "ipython2",
   "version": "2.7.5"
  }
 },
 "nbformat": 4,
 "nbformat_minor": 0
}
