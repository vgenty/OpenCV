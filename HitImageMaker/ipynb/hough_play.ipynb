{
 "cells": [
  {
   "cell_type": "code",
   "execution_count": null,
   "metadata": {
    "collapsed": false
   },
   "outputs": [],
   "source": [
    "#%matplotlib inline\n",
    "import matplotlib\n",
    "import matplotlib.pyplot as plt\n",
    "import matplotlib.image  as mpimg\n",
    "import matplotlib.cm     as cm\n",
    "import matplotlib.collections as mc\n",
    "import numpy as np\n",
    "import cv2\n",
    "\n",
    "from larlite import larlite as fmwk\n",
    "my_proc = fmwk.ana_processor()\n",
    "my_proc.add_input_file(\"/Users/vgenty/Desktop/single_e.root\")\n",
    "#my_proc.add_input_file(\"/Volumes/Slow/uboone_data/ben_cosmics/reco2d/2564684_2/larlite_reco2d.root\")\n",
    "my_proc.set_io_mode(fmwk.storage_manager.kREAD) \n",
    "my_unit = fmwk.HitImageMaker()\n",
    "my_proc.add_process(my_unit)    "
   ]
  },
  {
   "cell_type": "code",
   "execution_count": null,
   "metadata": {
    "collapsed": false
   },
   "outputs": [],
   "source": []
  },
  {
   "cell_type": "code",
   "execution_count": null,
   "metadata": {
    "collapsed": false
   },
   "outputs": [],
   "source": [
    "my_proc.process_event()"
   ]
  },
  {
   "cell_type": "code",
   "execution_count": null,
   "metadata": {
    "collapsed": false
   },
   "outputs": [],
   "source": [
    "# cv2.HoughLinesP(image, rho, theta, threshold[, lines[, minLineLength[, maxLineGap]]]) → lines"
   ]
  },
  {
   "cell_type": "code",
   "execution_count": null,
   "metadata": {
    "collapsed": false
   },
   "outputs": [],
   "source": [
    "#my_proc.process_event()\n",
    "image = my_unit.GetImage(2)\n",
    "#ret,img = cv2.threshold(image,5,255,cv2.THRESH_BINARY)\n",
    "kernel   = cv2.getStructuringElement(cv2.MORPH_RECT,(5,5))\n",
    "dilation = cv2.dilate(image,kernel,iterations = 1)\n",
    "#img = cv2.blur(image,(10,10))\n",
    "img      = cv2.GaussianBlur(dilation,(5,5),50)\n",
    "ret,img  = cv2.threshold(img,5,255,cv2.THRESH_BINARY)\n",
    "\n",
    "canny = cv2.Canny(img,0,1,3)\n",
    "\n",
    "hough = cv2.HoughLinesP(img, 20, np.pi/180.0,100,25,100,100)\n",
    "\n",
    "hh = []\n",
    "\n",
    "for h in hough:\n",
    "    hh.append([(h[0][0],h[0][1]),(h[0][2],h[0][3])])\n",
    "\n",
    "cc = mc.LineCollection(hh, linewidths=1)\n",
    "\n",
    "fig = plt.subplots(figsize=(10,6))\n",
    "\n",
    "ax = plt.subplot(4,1,1)\n",
    "ax.imshow(img,cmap = cm.Greys,interpolation='none')\n",
    "\n",
    "ax = plt.subplot(4,1,2)\n",
    "ax.imshow(canny,cmap = cm.Greys,interpolation='none')\n",
    "\n",
    "ax = plt.subplot(4,1,3)\n",
    "ax.imshow(img,cmap = cm.Greys,interpolation='none')\n",
    "ax.add_collection(cc)\n",
    "\n",
    "#ax = plt.subplot(4,1,4)\n",
    "#for x in xrange(my_unit.NumContours(2)):\n",
    "#    x_array, y_array = my_unit.GetContour(2,x)\n",
    "#    ax.plot(x_array,y_array) \n",
    "    \n",
    "plt.tight_layout()\n",
    "plt.show()\n",
    "\n",
    "#fig, ax = plt.subplots(figsize=(10,6))\n",
    "#ax.imshow(img,cmap = cm.Greys,interpolation='none')\n",
    "#plt.tight_layout()\n",
    "#plt.show()"
   ]
  },
  {
   "cell_type": "code",
   "execution_count": null,
   "metadata": {
    "collapsed": false
   },
   "outputs": [],
   "source": []
  },
  {
   "cell_type": "code",
   "execution_count": null,
   "metadata": {
    "collapsed": false,
    "scrolled": true
   },
   "outputs": [],
   "source": []
  },
  {
   "cell_type": "code",
   "execution_count": null,
   "metadata": {
    "collapsed": false
   },
   "outputs": [],
   "source": []
  },
  {
   "cell_type": "code",
   "execution_count": null,
   "metadata": {
    "collapsed": false
   },
   "outputs": [],
   "source": []
  },
  {
   "cell_type": "code",
   "execution_count": null,
   "metadata": {
    "collapsed": true
   },
   "outputs": [],
   "source": [
    "#for i in xrange(1):\n",
    "#    my_proc.process_event()\n",
    "#   image = my_unit.GetImage(2)\n",
    "\n",
    "    img = cv2.blur(image,(5,5))\n",
    "    #img = cv2.medianBlur(img,5) # really bad, just makes the image 0\n",
    "    #img = cv2.GaussianBlur(image,(5,5),1)\n",
    "    #make it binary?\n",
    "    img =  cv2.threshold(img,5,255,cv2.THRESH_BINARY)\n",
    "    \n",
    "    canny = cv2.Canny(img,0,1,3)\n",
    "    \n",
    "    \n",
    "    hough = cv2.HoughLinesP(canny, 20, np.pi/180.0,100,50,50,10)\n",
    "    hh = []\n",
    "    if hough is None:\n",
    "        continue\n",
    "    for h in hough:\n",
    "        hh.append([(h[0][0],h[0][1]),(h[0][2],h[0][3])])\n",
    "\n",
    "    cc = mc.LineCollection(hh, linewidths=1)\n",
    "\n",
    "    fig = plt.subplots(figsize=(10,6))\n",
    "    ax = plt.subplot(2,1,1)\n",
    "    ax.imshow(img,cmap = cm.Greys,interpolation='none')\n",
    "    ax = plt.subplot(2,1,2)\n",
    "    ax.imshow(canny,cmap = cm.Greys,interpolation='none')\n",
    "    ax.add_collection(cc)\n",
    "    plt.tight_layout()\n",
    "    plt.show()"
   ]
  }
 ],
 "metadata": {
  "kernelspec": {
   "display_name": "Python 2",
   "language": "python",
   "name": "python2"
  },
  "language_info": {
   "codemirror_mode": {
    "name": "ipython",
    "version": 2
   },
   "file_extension": ".py",
   "mimetype": "text/x-python",
   "name": "python",
   "nbconvert_exporter": "python",
   "pygments_lexer": "ipython2",
   "version": "2.7.5"
  }
 },
 "nbformat": 4,
 "nbformat_minor": 0
}
